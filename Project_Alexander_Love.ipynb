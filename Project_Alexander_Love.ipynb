{
 "cells": [
  {
   "cell_type": "markdown",
   "id": "84d21219-debf-4420-8af5-a94f0114162f",
   "metadata": {},
   "source": [
    "# Reproducibale Challenge Project\n",
    "### Alexander Svensson & Love Sundin\n",
    "2025-10-21"
   ]
  },
  {
   "cell_type": "markdown",
   "id": "748b9b96-c3f3-49dd-940d-78d31d296f1f",
   "metadata": {},
   "source": [
    "__(1)__ A well-defined problem\n"
   ]
  },
  {
   "cell_type": "markdown",
   "id": "abcdec7a-2c53-4eb5-a7ee-17adc7017cda",
   "metadata": {},
   "source": [
    "How benign the canser is."
   ]
  },
  {
   "cell_type": "markdown",
   "id": "e86a4ce9-8137-416b-80bf-835091f7a968",
   "metadata": {},
   "source": [
    "__(2)__ Use data from an existing source, or generate data as part of a simulation experiment"
   ]
  },
  {
   "cell_type": "markdown",
   "id": "e8a515ee-781a-430b-855c-27a1e04950d5",
   "metadata": {},
   "source": [
    "[Länk Data](https://archive.ics.uci.edu/dataset/15/breast+cancer+wisconsin+original)"
   ]
  },
  {
   "cell_type": "markdown",
   "id": "8423c347-7c9b-455e-914c-066f4b5199c8",
   "metadata": {},
   "source": [
    "__(3)__ Include data analysis with one or more methods of statistical learning from the course"
   ]
  },
  {
   "cell_type": "markdown",
   "id": "28c79278-9953-485a-b606-351c310459ef",
   "metadata": {},
   "source": [
    "* Unsupervised Learning – Clustering\n",
    "* Supervised Learning – Classification\n",
    "* __Neural Network Implementation__\n",
    "* __Predictive modelling__"
   ]
  },
  {
   "cell_type": "markdown",
   "id": "68f22f0f-1610-4e1c-b4d3-d748f33a5e38",
   "metadata": {},
   "source": [
    "__(4)__ Justify the choice and discussion of limitations of the method"
   ]
  },
  {
   "cell_type": "code",
   "execution_count": null,
   "id": "704fbf24-6dd1-4cde-93d4-5f269a9799ba",
   "metadata": {},
   "outputs": [],
   "source": []
  },
  {
   "cell_type": "markdown",
   "id": "f2d66e16-5276-49a4-8311-ac3fef4da735",
   "metadata": {},
   "source": [
    "__(5)__ Data visualisation and a discussion of why particular graph styles were chosen."
   ]
  },
  {
   "cell_type": "code",
   "execution_count": null,
   "id": "a97cc61b-ff28-4577-a06e-0239b70a4f7e",
   "metadata": {},
   "outputs": [],
   "source": []
  },
  {
   "cell_type": "markdown",
   "id": "dbb57408-6458-42ca-a2e5-7fffe742d20e",
   "metadata": {},
   "source": [
    "__(6)__ Reflection on FAIR principles, and how each concept of the acronym relates to the project (data and workflow)."
   ]
  },
  {
   "cell_type": "markdown",
   "id": "bc5f015e-754b-4e1a-8828-166a1c2cec57",
   "metadata": {},
   "source": [
    "* __F__ - \n",
    "* __A__ - \n",
    "* __I__ - \n",
    "* __R__ - "
   ]
  },
  {
   "cell_type": "markdown",
   "id": "8bf90281-8a0c-40c2-9cfd-b84bb11b67aa",
   "metadata": {},
   "source": [
    "__(7)__ All of the above should be implemented in a reproducible workflow, e.g. a Jupyter Notebook. Please upload it to complete the final assignment."
   ]
  },
  {
   "cell_type": "code",
   "execution_count": null,
   "id": "dfacb01f-27dc-4f53-a785-1a6b123e9c25",
   "metadata": {},
   "outputs": [],
   "source": []
  },
  {
   "cell_type": "markdown",
   "id": "0b55fcef-a046-4d65-843d-5fccc5f6d2be",
   "metadata": {},
   "source": [
    "__(8)__ Finally, all groups present their project for the class, maximum 10 minutes per group (please rehearse beforehand to ensure that you keep this limit, as the schedule is tight)."
   ]
  },
  {
   "cell_type": "code",
   "execution_count": null,
   "id": "a667ccda-d292-4cb5-99f2-65791b7463d0",
   "metadata": {},
   "outputs": [],
   "source": []
  },
  {
   "cell_type": "markdown",
   "id": "ac55aa51-0056-4455-a8d2-0a2217b57e02",
   "metadata": {},
   "source": [
    "# Report"
   ]
  },
  {
   "cell_type": "markdown",
   "id": "17964753-e940-46bf-83ba-8c13189f7bbd",
   "metadata": {},
   "source": [
    "### Introduction and Objective"
   ]
  },
  {
   "cell_type": "code",
   "execution_count": null,
   "id": "a81529ac-6ae4-4cee-a792-8e47af8dc498",
   "metadata": {},
   "outputs": [],
   "source": []
  },
  {
   "cell_type": "markdown",
   "id": "a6060b52-8f4e-4985-8e38-7261e2311bf4",
   "metadata": {},
   "source": [
    "### Methodology for each task"
   ]
  },
  {
   "cell_type": "code",
   "execution_count": null,
   "id": "d4cd487e-ba04-49fe-9d88-d6bdfda53958",
   "metadata": {},
   "outputs": [],
   "source": []
  },
  {
   "cell_type": "markdown",
   "id": "7347ed66-d33f-43f6-982e-d8b3a73d2be3",
   "metadata": {},
   "source": [
    "### Results with supporting visuals"
   ]
  },
  {
   "cell_type": "code",
   "execution_count": null,
   "id": "0c6a13a4-311f-4f9f-a27a-7696d43d7fb7",
   "metadata": {},
   "outputs": [],
   "source": []
  },
  {
   "cell_type": "markdown",
   "id": "dea7a039-2642-47ce-b281-b5f7b09fcda7",
   "metadata": {},
   "source": [
    "### Interpretation of Findings"
   ]
  },
  {
   "cell_type": "code",
   "execution_count": null,
   "id": "ea90858c-fe51-4fce-a727-105dec98af55",
   "metadata": {},
   "outputs": [],
   "source": []
  },
  {
   "cell_type": "markdown",
   "id": "e573d7f0-4e3b-40de-b224-09616227f793",
   "metadata": {},
   "source": [
    "### Conclusion summarizing key insights"
   ]
  },
  {
   "cell_type": "code",
   "execution_count": null,
   "id": "7b642650-4327-4f6d-895e-762e51ca76a9",
   "metadata": {},
   "outputs": [],
   "source": []
  }
 ],
 "metadata": {
  "kernelspec": {
   "display_name": "Python [conda env:base] *",
   "language": "python",
   "name": "conda-base-py"
  },
  "language_info": {
   "codemirror_mode": {
    "name": "ipython",
    "version": 3
   },
   "file_extension": ".py",
   "mimetype": "text/x-python",
   "name": "python",
   "nbconvert_exporter": "python",
   "pygments_lexer": "ipython3",
   "version": "3.13.5"
  }
 },
 "nbformat": 4,
 "nbformat_minor": 5
}
